{
 "cells": [
  {
   "cell_type": "code",
   "execution_count": 7,
   "id": "6439ddd0",
   "metadata": {},
   "outputs": [
    {
     "name": "stdout",
     "output_type": "stream",
     "text": [
      "Collecting pypdf\n",
      "  Downloading pypdf-3.11.1-py3-none-any.whl (257 kB)\n",
      "                                              0.0/257.8 kB ? eta -:--:--\n",
      "     -------------------------------------  256.0/257.8 kB 7.9 MB/s eta 0:00:01\n",
      "     -------------------------------------- 257.8/257.8 kB 5.3 MB/s eta 0:00:00\n",
      "Installing collected packages: pypdf\n",
      "Successfully installed pypdf-3.11.1\n",
      "Note: you may need to restart the kernel to use updated packages.\n"
     ]
    }
   ],
   "source": [
    "pip install pypdf"
   ]
  },
  {
   "cell_type": "code",
   "execution_count": 1,
   "id": "d785cf42",
   "metadata": {},
   "outputs": [
    {
     "name": "stdout",
     "output_type": "stream",
     "text": [
      "Requirement already satisfied: PyPDF2 in c:\\python311\\lib\\site-packages (3.0.1)Note: you may need to restart the kernel to use updated packages.\n",
      "\n"
     ]
    }
   ],
   "source": [
    "pip install PyPDF2"
   ]
  },
  {
   "cell_type": "code",
   "execution_count": 2,
   "id": "7c703afd",
   "metadata": {},
   "outputs": [],
   "source": [
    "# import PdfFileWriter and PdfFileReader\n",
    "# class from PyPDF2 library\n",
    "from PyPDF2 import PdfWriter, PdfReader\n",
    "\n",
    "# create a PdfFileWriter object\n",
    "out = PdfWriter()\n",
    "\n",
    "# Open our PDF file with the PdfFileReader\n",
    "file = PdfReader(\"myfile.pdf\")\n",
    "\n",
    "# Get number of pages in original file\n",
    "num = len(file.pages)\n",
    "\n",
    "# Iterate through every page of the original\n",
    "# file and add it to our new file.\n",
    "for idx in range(num):\n",
    "\t\n",
    "\t# Get the page at index idx\n",
    "\tpage = file.pages[idx]\n",
    "\t\n",
    "\t# Add it to the output file\n",
    "\tout.add_page(page)\n",
    "\n",
    "\n",
    "# Create a variable password and store\n",
    "# our password in it.\n",
    "password = \"pass\"\n",
    "\n",
    "# Encrypt the new file with the entered password\n",
    "out.encrypt(password)\n",
    "\n",
    "# Open a new file \"myfile_encrypted.pdf\"\n",
    "with open(\"myfile_encrypted.pdf\", \"wb\") as f:\n",
    "\t\n",
    "\t# Write our encrypted PDF to this file\n",
    "\tout.write(f)\n"
   ]
  },
  {
   "cell_type": "code",
   "execution_count": 3,
   "id": "3a537437",
   "metadata": {},
   "outputs": [
    {
     "name": "stdout",
     "output_type": "stream",
     "text": [
      "File decrypted Successfully.\n"
     ]
    }
   ],
   "source": [
    "# import PdfFileWriter and PdfFileReader\n",
    "# class from PyPDF2 library\n",
    "from PyPDF2 import PdfWriter, PdfReader\n",
    "\n",
    "# Create a PdfFileWriter object\n",
    "out = PdfWriter()\n",
    "\n",
    "# Open encrypted PDF file with the PdfFileReader\n",
    "file = PdfReader(\"myfile_encrypted.pdf\")\n",
    "\n",
    "# Store correct password in a variable password.\n",
    "password = \"pass\"\n",
    "\n",
    "# Check if the opened file is actually Encrypted\n",
    "if file.is_encrypted:\n",
    "\n",
    "\t# If encrypted, decrypt it with the password\n",
    "\tfile.decrypt(password)\n",
    "\n",
    "\t# Now, the file has been unlocked.\n",
    "\t# Iterate through every page of the file\n",
    "\t# and add it to our new file.\n",
    "\tfor idx in range(len(file.pages)):\n",
    "\t\t\n",
    "\t\t# Get the page at index idx\n",
    "\t\tpage = file.pages[idx]\n",
    "\t\t\n",
    "\t\t# Add it to the output file\n",
    "\t\tout.add_page(page)\n",
    "\t\n",
    "\t# Open a new file \"myfile_decrypted.pdf\"\n",
    "\twith open(\"myfile_decrypted.pdf\", \"wb\") as f:\n",
    "\t\t\n",
    "\t\t# Write our decrypted PDF to this file\n",
    "\t\tout.write(f)\n",
    "\n",
    "\t# Print success message when Done\n",
    "\tprint(\"File decrypted Successfully.\")\n",
    "else:\n",
    "\t\n",
    "\t# If file is not encrypted, print the\n",
    "\t# message\n",
    "\tprint(\"File already decrypted.\")\n"
   ]
  },
  {
   "cell_type": "code",
   "execution_count": 4,
   "id": "ce6a6c8b",
   "metadata": {},
   "outputs": [
    {
     "name": "stdout",
     "output_type": "stream",
     "text": [
      "Requirement already satisfied: pycryptodomex in c:\\python311\\lib\\site-packages (3.18.0)\n",
      "Note: you may need to restart the kernel to use updated packages.\n"
     ]
    }
   ],
   "source": [
    "pip install pycryptodomex"
   ]
  },
  {
   "cell_type": "code",
   "execution_count": 5,
   "id": "8a10a18c",
   "metadata": {},
   "outputs": [
    {
     "name": "stdout",
     "output_type": "stream",
     "text": [
      "File encrypted successfully.\n"
     ]
    }
   ],
   "source": [
    "from Cryptodome.Cipher import DES\n",
    "\n",
    "def pad_text(text, block_size):\n",
    "    # Pad the text to be a multiple of the block size\n",
    "    padding_size = block_size - (len(text) % block_size)\n",
    "    padding = bytes([padding_size] * padding_size)\n",
    "    return text + padding\n",
    "\n",
    "def encrypt_file(input_path, output_path, key):\n",
    "    # Initialize the DES cipher with the provided key\n",
    "    cipher = DES.new(key, DES.MODE_ECB)\n",
    "\n",
    "    # Read the input file\n",
    "    with open(input_path, 'rb') as file:\n",
    "        plaintext = file.read()\n",
    "\n",
    "    # Pad the plaintext\n",
    "    padded_plaintext = pad_text(plaintext, DES.block_size)\n",
    "\n",
    "    # Encrypt the padded plaintext\n",
    "    ciphertext = cipher.encrypt(padded_plaintext)\n",
    "\n",
    "    # Write the encrypted ciphertext to the output file\n",
    "    with open(output_path, 'wb') as file:\n",
    "        file.write(ciphertext)\n",
    "\n",
    "    print(\"File encrypted successfully.\")\n",
    "\n",
    "# Example usage\n",
    "input_file = \"hello.txt\"\n",
    "output_file = \"hello1.txt\"\n",
    "encryption_key = b\"01234567\"  # 8-byte key for DES\n",
    "\n",
    "encrypt_file(input_file, output_file, encryption_key)"
   ]
  },
  {
   "cell_type": "code",
   "execution_count": 6,
   "id": "0b08c9ec",
   "metadata": {},
   "outputs": [
    {
     "name": "stdout",
     "output_type": "stream",
     "text": [
      "File decrypted successfully.\n"
     ]
    }
   ],
   "source": [
    "from Cryptodome.Cipher import DES\n",
    "\n",
    "def unpad_text(text):\n",
    "    # Remove the padding from the text\n",
    "    padding_size = text[-1]\n",
    "    return text[:-padding_size]\n",
    "\n",
    "def decrypt_file(input_path, output_path, key):\n",
    "    # Initialize the DES cipher with the provided key\n",
    "    cipher = DES.new(key, DES.MODE_ECB)\n",
    "\n",
    "    # Read the input file\n",
    "    with open(input_path, 'rb') as file:\n",
    "        ciphertext = file.read()\n",
    "\n",
    "    # Decrypt the ciphertext\n",
    "    padded_plaintext = cipher.decrypt(ciphertext)\n",
    "\n",
    "    # Remove the padding from the plaintext\n",
    "    plaintext = unpad_text(padded_plaintext)\n",
    "\n",
    "    # Write the decrypted plaintext to the output file\n",
    "    with open(output_path, 'wb') as file:\n",
    "        file.write(plaintext)\n",
    "\n",
    "    print(\"File decrypted successfully.\")\n",
    "\n",
    "# Example usage\n",
    "input_file = \"hello1.txt\"\n",
    "output_file = \"hello2.txt\"\n",
    "encryption_key = b\"01234567\"  # 8-byte key for DES\n",
    "\n",
    "decrypt_file(input_file, output_file, encryption_key)"
   ]
  },
  {
   "cell_type": "code",
   "execution_count": 2,
   "id": "3e684780",
   "metadata": {},
   "outputs": [
    {
     "name": "stdout",
     "output_type": "stream",
     "text": [
      "Image encrypted successfully.\n"
     ]
    }
   ],
   "source": [
    "from Cryptodome.Cipher import DES\n",
    "from Cryptodome.Util.Padding import pad\n",
    "from PIL import Image\n",
    "\n",
    "def encrypt_image(input_path, output_path, key):\n",
    "    # Initialize the DES cipher with the provided key\n",
    "    cipher = DES.new(key, DES.MODE_ECB)\n",
    "\n",
    "    # Read the input image\n",
    "    image = Image.open(input_path)\n",
    "    image = image.convert(\"RGB\")\n",
    "\n",
    "    # Convert the image to a byte array\n",
    "    image_array = bytearray(image.tobytes())\n",
    "\n",
    "    # Pad the image array to match the block size\n",
    "    padded_array = pad(image_array, DES.block_size)\n",
    "\n",
    "    # Encrypt the padded image array\n",
    "    encrypted_array = cipher.encrypt(padded_array)\n",
    "\n",
    "    # Save the encrypted image array to the output file\n",
    "    with open(output_path, 'wb') as file:\n",
    "        file.write(encrypted_array)\n",
    "\n",
    "    print(\"Image encrypted successfully.\")\n",
    "\n",
    "# Example usage\n",
    "input_image = \"images.jpeg\"\n",
    "output_image = \"images_enc.jpg\"\n",
    "encryption_key = b\"01234567\"  # 8-byte key for DES\n",
    "\n",
    "encrypt_image(input_image, output_image, encryption_key)"
   ]
  },
  {
   "cell_type": "code",
   "execution_count": null,
   "id": "25baf6e5",
   "metadata": {},
   "outputs": [],
   "source": []
  }
 ],
 "metadata": {
  "kernelspec": {
   "display_name": "Python 3 (ipykernel)",
   "language": "python",
   "name": "python3"
  },
  "language_info": {
   "codemirror_mode": {
    "name": "ipython",
    "version": 3
   },
   "file_extension": ".py",
   "mimetype": "text/x-python",
   "name": "python",
   "nbconvert_exporter": "python",
   "pygments_lexer": "ipython3",
   "version": "3.11.4"
  }
 },
 "nbformat": 4,
 "nbformat_minor": 5
}
